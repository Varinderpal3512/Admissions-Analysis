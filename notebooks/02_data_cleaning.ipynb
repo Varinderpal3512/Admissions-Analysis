{
 "cells": [
  {
   "cell_type": "markdown",
   "metadata": {},
   "source": [
    "# 📌 Data Cleaning Notebook (02_data_cleaning.ipynb)\n",
    "\n",
    "## 📝 Objective  \n",
    "This notebook cleans the raw admission dataset by:  \n",
    "- Handling missing values  \n",
    "- Fixing inconsistent data (typos, wrong labels)  \n",
    "- Removing duplicate records  \n",
    "- Normalizing numerical values (GPA, SAT Score)  \n"
   ]
  },
  {
   "cell_type": "code",
   "execution_count": null,
   "metadata": {},
   "outputs": [
    {
     "data": {
      "text/html": [
       "<div>\n",
       "<style scoped>\n",
       "    .dataframe tbody tr th:only-of-type {\n",
       "        vertical-align: middle;\n",
       "    }\n",
       "\n",
       "    .dataframe tbody tr th {\n",
       "        vertical-align: top;\n",
       "    }\n",
       "\n",
       "    .dataframe thead th {\n",
       "        text-align: right;\n",
       "    }\n",
       "</style>\n",
       "<table border=\"1\" class=\"dataframe\">\n",
       "  <thead>\n",
       "    <tr style=\"text-align: right;\">\n",
       "      <th></th>\n",
       "      <th>Applicant_ID</th>\n",
       "      <th>Age</th>\n",
       "      <th>Gender</th>\n",
       "      <th>Program_Applied</th>\n",
       "      <th>GPA</th>\n",
       "      <th>SAT_Score</th>\n",
       "      <th>Acceptance_Status</th>\n",
       "      <th>Scholarship_Status</th>\n",
       "      <th>Enrollment_Status</th>\n",
       "    </tr>\n",
       "  </thead>\n",
       "  <tbody>\n",
       "    <tr>\n",
       "      <th>0</th>\n",
       "      <td>1024</td>\n",
       "      <td>17.0</td>\n",
       "      <td>Mal</td>\n",
       "      <td>Engineering</td>\n",
       "      <td>2.62</td>\n",
       "      <td>1138.0</td>\n",
       "      <td>Rejected</td>\n",
       "      <td>Yes</td>\n",
       "      <td>Not Enrolled</td>\n",
       "    </tr>\n",
       "    <tr>\n",
       "      <th>1</th>\n",
       "      <td>1245</td>\n",
       "      <td>19.0</td>\n",
       "      <td>Male</td>\n",
       "      <td>Healthcare</td>\n",
       "      <td>3.39</td>\n",
       "      <td>1153.0</td>\n",
       "      <td>Rejected</td>\n",
       "      <td>Yes</td>\n",
       "      <td>Enrolled</td>\n",
       "    </tr>\n",
       "    <tr>\n",
       "      <th>2</th>\n",
       "      <td>1248</td>\n",
       "      <td>25.0</td>\n",
       "      <td>Male</td>\n",
       "      <td>Computer Science</td>\n",
       "      <td>2.27</td>\n",
       "      <td>1058.0</td>\n",
       "      <td>Rejected</td>\n",
       "      <td>Yes</td>\n",
       "      <td>Enrolled</td>\n",
       "    </tr>\n",
       "    <tr>\n",
       "      <th>3</th>\n",
       "      <td>1167</td>\n",
       "      <td>19.0</td>\n",
       "      <td>Male</td>\n",
       "      <td>Healthcare</td>\n",
       "      <td>2.63</td>\n",
       "      <td>1449.0</td>\n",
       "      <td>Accepted</td>\n",
       "      <td>Yes</td>\n",
       "      <td>Not Enrolled</td>\n",
       "    </tr>\n",
       "    <tr>\n",
       "      <th>4</th>\n",
       "      <td>1424</td>\n",
       "      <td>23.0</td>\n",
       "      <td>Male</td>\n",
       "      <td>Business</td>\n",
       "      <td>3.02</td>\n",
       "      <td>1455.0</td>\n",
       "      <td>Rejected</td>\n",
       "      <td>No</td>\n",
       "      <td>Not Enrolled</td>\n",
       "    </tr>\n",
       "  </tbody>\n",
       "</table>\n",
       "</div>"
      ],
      "text/plain": [
       "   Applicant_ID   Age Gender   Program_Applied   GPA  SAT_Score  \\\n",
       "0          1024  17.0    Mal       Engineering  2.62     1138.0   \n",
       "1          1245  19.0   Male        Healthcare  3.39     1153.0   \n",
       "2          1248  25.0   Male  Computer Science  2.27     1058.0   \n",
       "3          1167  19.0   Male        Healthcare  2.63     1449.0   \n",
       "4          1424  23.0   Male          Business  3.02     1455.0   \n",
       "\n",
       "  Acceptance_Status Scholarship_Status Enrollment_Status  \n",
       "0          Rejected                Yes      Not Enrolled  \n",
       "1          Rejected                Yes          Enrolled  \n",
       "2          Rejected                Yes          Enrolled  \n",
       "3          Accepted                Yes      Not Enrolled  \n",
       "4          Rejected                 No      Not Enrolled  "
      ]
     },
     "execution_count": 2,
     "metadata": {},
     "output_type": "execute_result"
    }
   ],
   "source": [
    "import pandas as pd\n",
    "import numpy as np\n",
    "\n",
    "# Load the dataset\n",
    "file_path = \"../data/raw/admission_data.csv\"  \n",
    "df = pd.read_csv(file_path)\n",
    "\n",
    "# Display the first few rows\n",
    "df.head()"
   ]
  },
  {
   "cell_type": "code",
   "execution_count": 3,
   "metadata": {},
   "outputs": [
    {
     "data": {
      "text/plain": [
       "Applicant_ID           0\n",
       "Age                   50\n",
       "Gender                 0\n",
       "Program_Applied        0\n",
       "GPA                   50\n",
       "SAT_Score             50\n",
       "Acceptance_Status      0\n",
       "Scholarship_Status    50\n",
       "Enrollment_Status      0\n",
       "dtype: int64"
      ]
     },
     "execution_count": 3,
     "metadata": {},
     "output_type": "execute_result"
    }
   ],
   "source": [
    "# Check for missing values\n",
    "missing_values = df.isnull().sum()\n",
    "missing_values"
   ]
  },
  {
   "cell_type": "code",
   "execution_count": 8,
   "metadata": {},
   "outputs": [
    {
     "data": {
      "text/plain": [
       "Applicant_ID          0\n",
       "Age                   0\n",
       "Gender                0\n",
       "Program_Applied       0\n",
       "GPA                   0\n",
       "SAT_Score             0\n",
       "Acceptance_Status     0\n",
       "Scholarship_Status    0\n",
       "Enrollment_Status     0\n",
       "dtype: int64"
      ]
     },
     "execution_count": 8,
     "metadata": {},
     "output_type": "execute_result"
    }
   ],
   "source": [
    "# Fill missing values for numerical columns\n",
    "df['Age'] = df['Age'].fillna(df['Age'].median())\n",
    "df['GPA'] = df['GPA'].fillna(df['GPA'].mean())\n",
    "df['SAT_Score'] = df['SAT_Score'].fillna(df['SAT_Score'].median())\n",
    "\n",
    "# Fill missing values for categorical column\n",
    "df['Scholarship_Status'] = df['Scholarship_Status'].fillna(df['Scholarship_Status'].mode()[0])\n",
    "\n",
    "# Verify that all missing values are handled\n",
    "df.isnull().sum()"
   ]
  },
  {
   "cell_type": "code",
   "execution_count": 10,
   "metadata": {},
   "outputs": [
    {
     "data": {
      "text/plain": [
       "(Gender\n",
       " Male      496\n",
       " Female    476\n",
       " Other      28\n",
       " Name: count, dtype: int64,\n",
       " Program_Applied\n",
       " Healthcare          432\n",
       " Engineering         186\n",
       " Computer Science    182\n",
       " Business            132\n",
       " Design               68\n",
       " Name: count, dtype: int64)"
      ]
     },
     "execution_count": 10,
     "metadata": {},
     "output_type": "execute_result"
    }
   ],
   "source": [
    "# Fix Gender inconsistencies\n",
    "df['Gender'] = df['Gender'].replace({'Fmale': 'Female', 'Mal': 'Male', 'Femal': 'Female', 'Mle': 'Male'})\n",
    "\n",
    "# Standardize Program names\n",
    "df['Program_Applied'] = df['Program_Applied'].replace({\n",
    "    'Comp Sci': 'Computer Science',\n",
    "    'Cmptr Sci': 'Computer Science',\n",
    "    'CompSci': 'Computer Science',\n",
    "    'Engg': 'Engineering',\n",
    "    'Bussiness': 'Business',\n",
    "    'Hlthcare': 'Healthcare',\n",
    "    'Healthcar': 'Healthcare'\n",
    "})\n",
    "\n",
    "# Verify unique values\n",
    "df['Gender'].value_counts(), df['Program_Applied'].value_counts()"
   ]
  },
  {
   "cell_type": "code",
   "execution_count": 11,
   "metadata": {},
   "outputs": [
    {
     "name": "stdout",
     "output_type": "stream",
     "text": [
      "Duplicate Rows Before: 355\n",
      "Duplicate Rows After: 0\n"
     ]
    }
   ],
   "source": [
    "# Check for duplicate rows\n",
    "duplicate_rows = df.duplicated().sum()\n",
    "print(f\"Duplicate Rows Before: {duplicate_rows}\")\n",
    "\n",
    "# Remove duplicates\n",
    "df = df.drop_duplicates()\n",
    "\n",
    "# Verify duplicates removed\n",
    "print(f\"Duplicate Rows After: {df.duplicated().sum()}\")"
   ]
  },
  {
   "cell_type": "code",
   "execution_count": null,
   "metadata": {},
   "outputs": [
    {
     "data": {
      "text/html": [
       "<div>\n",
       "<style scoped>\n",
       "    .dataframe tbody tr th:only-of-type {\n",
       "        vertical-align: middle;\n",
       "    }\n",
       "\n",
       "    .dataframe tbody tr th {\n",
       "        vertical-align: top;\n",
       "    }\n",
       "\n",
       "    .dataframe thead th {\n",
       "        text-align: right;\n",
       "    }\n",
       "</style>\n",
       "<table border=\"1\" class=\"dataframe\">\n",
       "  <thead>\n",
       "    <tr style=\"text-align: right;\">\n",
       "      <th></th>\n",
       "      <th>GPA</th>\n",
       "      <th>GPA_Normalized</th>\n",
       "      <th>SAT_Score</th>\n",
       "      <th>SAT_Score_Normalized</th>\n",
       "    </tr>\n",
       "  </thead>\n",
       "  <tbody>\n",
       "    <tr>\n",
       "      <th>0</th>\n",
       "      <td>2.62</td>\n",
       "      <td>0.310</td>\n",
       "      <td>1138.0</td>\n",
       "      <td>0.337159</td>\n",
       "    </tr>\n",
       "    <tr>\n",
       "      <th>1</th>\n",
       "      <td>3.39</td>\n",
       "      <td>0.695</td>\n",
       "      <td>1153.0</td>\n",
       "      <td>0.358680</td>\n",
       "    </tr>\n",
       "    <tr>\n",
       "      <th>2</th>\n",
       "      <td>2.27</td>\n",
       "      <td>0.135</td>\n",
       "      <td>1058.0</td>\n",
       "      <td>0.222382</td>\n",
       "    </tr>\n",
       "    <tr>\n",
       "      <th>3</th>\n",
       "      <td>2.63</td>\n",
       "      <td>0.315</td>\n",
       "      <td>1449.0</td>\n",
       "      <td>0.783357</td>\n",
       "    </tr>\n",
       "    <tr>\n",
       "      <th>4</th>\n",
       "      <td>3.02</td>\n",
       "      <td>0.510</td>\n",
       "      <td>1455.0</td>\n",
       "      <td>0.791966</td>\n",
       "    </tr>\n",
       "  </tbody>\n",
       "</table>\n",
       "</div>"
      ],
      "text/plain": [
       "    GPA  GPA_Normalized  SAT_Score  SAT_Score_Normalized\n",
       "0  2.62           0.310     1138.0              0.337159\n",
       "1  3.39           0.695     1153.0              0.358680\n",
       "2  2.27           0.135     1058.0              0.222382\n",
       "3  2.63           0.315     1449.0              0.783357\n",
       "4  3.02           0.510     1455.0              0.791966"
      ]
     },
     "execution_count": 13,
     "metadata": {},
     "output_type": "execute_result"
    }
   ],
   "source": [
    "# Min-max normalization function\n",
    "def min_max_scaling(column):\n",
    "    return (column - column.min()) / (column.max() - column.min())\n",
    "\n",
    "# Apply normalization using .loc to avoid warnings\n",
    "df.loc[:, 'GPA_Normalized'] = min_max_scaling(df['GPA'])\n",
    "df.loc[:, 'SAT_Score_Normalized'] = min_max_scaling(df['SAT_Score'])\n",
    "\n",
    "# Verify normalization\n",
    "df[['GPA', 'GPA_Normalized', 'SAT_Score', 'SAT_Score_Normalized']].head()"
   ]
  },
  {
   "cell_type": "code",
   "execution_count": 14,
   "metadata": {},
   "outputs": [
    {
     "name": "stdout",
     "output_type": "stream",
     "text": [
      "✅ Cleaned dataset saved successfully!\n"
     ]
    }
   ],
   "source": [
    "# Save cleaned data to processed folder\n",
    "cleaned_file_path = \"../data/processed/admission_data_cleaned.csv\"\n",
    "df.to_csv(cleaned_file_path, index=False)\n",
    "\n",
    "print(\"✅ Cleaned dataset saved successfully!\")"
   ]
  }
 ],
 "metadata": {
  "kernelspec": {
   "display_name": "Python 3",
   "language": "python",
   "name": "python3"
  },
  "language_info": {
   "codemirror_mode": {
    "name": "ipython",
    "version": 3
   },
   "file_extension": ".py",
   "mimetype": "text/x-python",
   "name": "python",
   "nbconvert_exporter": "python",
   "pygments_lexer": "ipython3",
   "version": "3.12.9"
  }
 },
 "nbformat": 4,
 "nbformat_minor": 2
}
